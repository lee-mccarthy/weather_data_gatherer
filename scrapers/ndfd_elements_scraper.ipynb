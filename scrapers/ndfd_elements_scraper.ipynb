{
 "metadata": {
  "language_info": {
   "codemirror_mode": {
    "name": "ipython",
    "version": 3
   },
   "file_extension": ".py",
   "mimetype": "text/x-python",
   "name": "python",
   "nbconvert_exporter": "python",
   "pygments_lexer": "ipython3",
   "version": "3.9.0-final"
  },
  "orig_nbformat": 2,
  "kernelspec": {
   "name": "python3",
   "display_name": "Python 3.9.0 64-bit ('.venv')",
   "metadata": {
    "interpreter": {
     "hash": "de529d377c5e09d3a2c5eb297c5b157ef075aac274c68717cd5f02800b44b75f"
    }
   }
  }
 },
 "nbformat": 4,
 "nbformat_minor": 2,
 "cells": [
  {
   "cell_type": "code",
   "execution_count": 2,
   "metadata": {},
   "outputs": [],
   "source": [
    "import requests\n",
    "\n",
    "import numpy as np\n",
    "import pandas as pd"
   ]
  },
  {
   "cell_type": "code",
   "execution_count": 3,
   "metadata": {},
   "outputs": [],
   "source": [
    "response = requests.get('https://graphical.weather.gov/xml/docs/elementInputNames.php')"
   ]
  },
  {
   "cell_type": "code",
   "execution_count": 4,
   "metadata": {},
   "outputs": [
    {
     "output_type": "execute_result",
     "data": {
      "text/plain": [
       "<Response [200]>"
      ]
     },
     "metadata": {},
     "execution_count": 4
    }
   ],
   "source": [
    "response"
   ]
  },
  {
   "cell_type": "code",
   "execution_count": 5,
   "metadata": {},
   "outputs": [],
   "source": [
    "tables = pd.read_html(response.text)"
   ]
  },
  {
   "cell_type": "code",
   "execution_count": 6,
   "metadata": {},
   "outputs": [],
   "source": [
    "element_table = tables[2]"
   ]
  },
  {
   "cell_type": "code",
   "execution_count": 11,
   "metadata": {},
   "outputs": [
    {
     "output_type": "stream",
     "name": "stdout",
     "text": [
      "len = 55\n('maxt', 'mint', 'temp', 'dew', 'appt', 'pop12', 'qpf', 'snow', 'sky', 'rh', 'wspd', 'wdir', 'wx', 'icons', 'waveh', 'incw34', 'incw50', 'incw64', 'cumw34', 'cumw50', 'cumw64', 'wgust', 'critfireo', 'dryfireo', 'conhazo', 'ptornado', 'phail', 'ptstmwinds', 'pxtornado', 'pxhail', 'pxtstmwinds', 'ptotsvrtstm', 'pxtotsvrtstm', 'tmpabv14d', 'tmpblw14d', 'tmpabv30d', 'tmpblw30d', 'tmpabv90d', 'tmpblw90d', 'prcpabv14d', 'prcpblw14d', 'prcpabv30d', 'prcpblw30d', 'prcpabv90d', 'prcpblw90d', 'precipa_r', 'sky_r', 'td_r', 'temp_r', 'wdir_r', 'wspd_r', 'wwa', 'iceaccum', 'maxrh', 'minrh')\n"
     ]
    }
   ],
   "source": [
    "print('len = ' + str(len(tuple(element_table[1][1:]))))\n",
    "print(tuple(element_table[1][1:]))"
   ]
  },
  {
   "cell_type": "code",
   "execution_count": null,
   "metadata": {},
   "outputs": [],
   "source": []
  }
 ]
}