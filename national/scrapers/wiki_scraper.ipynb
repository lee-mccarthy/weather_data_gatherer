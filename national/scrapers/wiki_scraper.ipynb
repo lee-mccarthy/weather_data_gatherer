{
 "cells": [
  {
   "cell_type": "code",
   "execution_count": 1,
   "metadata": {},
   "outputs": [],
   "source": [
    "import csv\r\n",
    "import time\r\n",
    "\r\n",
    "import lxml\r\n",
    "import requests\r\n",
    "from bs4 import BeautifulSoup"
   ]
  },
  {
   "cell_type": "code",
   "execution_count": 2,
   "metadata": {},
   "outputs": [],
   "source": [
    "cities_list = [\n",
    "    'Boston',\n",
    "    'New York',\n",
    "    'Buffalo',\n",
    "    'Pittsburgh',\n",
    "    'Philadelphia',\n",
    "    'Baltimore',\n",
    "    'Washington D.C.',\n",
    "    'Norfolk',\n",
    "    'Charlotte',\n",
    "    'Atlanta',\n",
    "    'Jacksonville',\n",
    "    'Miami',\n",
    "    'Tampa',\n",
    "    'Birmingham',\n",
    "    'Memphis',\n",
    "    'Nashville',\n",
    "    'Louisville',\n",
    "    'Indianapolis',\n",
    "    'Cincinnati',\n",
    "    'Columbus',\n",
    "    'Cleveland',\n",
    "    'Detroit',\n",
    "    'Chicago',\n",
    "    'Milwaukee',\n",
    "    'Twin Cities',\n",
    "    'St. Louis',\n",
    "    'Kansas City',\n",
    "    'Wichita',\n",
    "    'Oklahoma City',\n",
    "    'New Orleans',\n",
    "    'Dallas',\n",
    "    'Houston',\n",
    "    'Austin',\n",
    "    'San Antonio',\n",
    "    'Albuquerque',\n",
    "    'Phoenix',\n",
    "    'Las Vegas',\n",
    "    'Colorado Springs',\n",
    "    'Denver',\n",
    "    'Salt Lake City',\n",
    "    'Seattle',\n",
    "    'Portland',\n",
    "    'San Francisco',\n",
    "    'San Jose',\n",
    "    'Fresno',\n",
    "    'Los Angeles',\n",
    "    'San Diego',\n",
    "    'Anchorage',\n",
    "    'Honolulu'\n",
    "]"
   ]
  },
  {
   "cell_type": "code",
   "execution_count": 3,
   "metadata": {},
   "outputs": [
    {
     "data": {
      "text/plain": [
       "49"
      ]
     },
     "execution_count": 3,
     "metadata": {},
     "output_type": "execute_result"
    }
   ],
   "source": [
    "len(cities_list)"
   ]
  },
  {
   "cell_type": "code",
   "execution_count": 3,
   "metadata": {},
   "outputs": [],
   "source": [
    "response = requests.get('https://en.wikipedia.org/wiki/Boston')"
   ]
  },
  {
   "cell_type": "code",
   "execution_count": 4,
   "metadata": {},
   "outputs": [
    {
     "data": {
      "text/plain": [
       "<Response [200]>"
      ]
     },
     "execution_count": 4,
     "metadata": {},
     "output_type": "execute_result"
    }
   ],
   "source": [
    "response"
   ]
  },
  {
   "cell_type": "code",
   "execution_count": 5,
   "metadata": {},
   "outputs": [],
   "source": [
    "soup = BeautifulSoup(response.text, 'lxml')"
   ]
  },
  {
   "cell_type": "code",
   "execution_count": 6,
   "metadata": {},
   "outputs": [
    {
     "data": {
      "text/plain": [
       "<span class=\"geo\">42.35806; -71.06361</span>"
      ]
     },
     "execution_count": 6,
     "metadata": {},
     "output_type": "execute_result"
    }
   ],
   "source": [
    "soup.find(\"span\", {\"class\": \"geo\"})"
   ]
  },
  {
   "cell_type": "code",
   "execution_count": 7,
   "metadata": {},
   "outputs": [
    {
     "data": {
      "text/plain": [
       "'42.35806; -71.06361'"
      ]
     },
     "execution_count": 7,
     "metadata": {},
     "output_type": "execute_result"
    }
   ],
   "source": [
    "soup.find(\"span\", {\"class\": \"geo\"}).text"
   ]
  },
  {
   "cell_type": "code",
   "execution_count": 8,
   "metadata": {},
   "outputs": [
    {
     "data": {
      "text/plain": [
       "['42.35806', '-71.06361']"
      ]
     },
     "execution_count": 8,
     "metadata": {},
     "output_type": "execute_result"
    }
   ],
   "source": [
    "soup.find(\"span\", {\"class\": \"geo\"}).text.split('; ')"
   ]
  },
  {
   "cell_type": "code",
   "execution_count": 9,
   "metadata": {},
   "outputs": [],
   "source": [
    "lat_longs = []\n",
    "for city in cities_list:\n",
    "    response = requests.get(f'https://en.wikipedia.org/wiki/{city}')\n",
    "    if response.status_code == 200:\n",
    "        soup = BeautifulSoup(response.text, 'lxml')\n",
    "        try:\n",
    "            lat_longs.append(soup.find(\"span\", {\"class\": \"geo\"}).text.split('; '))\n",
    "        except AttributeError:\n",
    "            lat_longs.append(0)\n",
    "    else:\n",
    "        lat_longs.append(0)\n",
    "    time.sleep(5)"
   ]
  },
  {
   "cell_type": "code",
   "execution_count": 10,
   "metadata": {},
   "outputs": [
    {
     "data": {
      "text/plain": [
       "[['42.35806', '-71.06361'],\n",
       " 0,\n",
       " 0,\n",
       " ['40.43972', '-79.97639'],\n",
       " ['39.95278', '-75.16361'],\n",
       " ['39.28944', '-76.61528'],\n",
       " ['38.9101', '-77.0147'],\n",
       " ['52.667', '1.000'],\n",
       " ['35.22722', '-80.84306'],\n",
       " ['33.75500', '-84.39000'],\n",
       " ['30.33694', '-81.66139'],\n",
       " ['25.77528', '-80.20889'],\n",
       " ['27.96806', '-82.47639'],\n",
       " ['52.48000', '-1.90250'],\n",
       " 0,\n",
       " ['36.16667', '-86.78333'],\n",
       " ['38.25611', '-85.75139'],\n",
       " ['39.76861', '-86.15806'],\n",
       " ['39.100', '-84.517'],\n",
       " 0,\n",
       " ['41.48222', '-81.66972'],\n",
       " ['42.33139', '-83.04583'],\n",
       " ['41.88194', '-87.62778'],\n",
       " ['43.05', '-87.95'],\n",
       " ['44.950', '-93.200'],\n",
       " ['38.62722', '-90.19778'],\n",
       " ['39.1', '-94.58'],\n",
       " 0,\n",
       " ['35.46861', '-97.52139'],\n",
       " ['29.95', '-90.08'],\n",
       " ['32.77917', '-96.80889'],\n",
       " ['29.76278', '-95.38306'],\n",
       " ['30.26722', '-97.74306'],\n",
       " ['29.42500', '-98.49389'],\n",
       " ['35.11083', '-106.61000'],\n",
       " 0,\n",
       " ['36.17500', '-115.13639'],\n",
       " ['38.83389', '-104.82528'],\n",
       " ['39.73917', '-104.99028'],\n",
       " ['40.76083', '-111.89111'],\n",
       " ['47.60972', '-122.33306'],\n",
       " 0,\n",
       " ['37.77750', '-122.41639'],\n",
       " 0,\n",
       " ['36.750', '-119.767'],\n",
       " ['34.050', '-118.250'],\n",
       " ['32.71500', '-117.16250'],\n",
       " ['61.217', '-149.900'],\n",
       " ['21.30694', '-157.85833']]"
      ]
     },
     "execution_count": 10,
     "metadata": {},
     "output_type": "execute_result"
    }
   ],
   "source": [
    "lat_longs"
   ]
  },
  {
   "cell_type": "code",
   "execution_count": 11,
   "metadata": {},
   "outputs": [
    {
     "name": "stdout",
     "output_type": "stream",
     "text": [
      "New York\n",
      "Buffalo\n",
      "Memphis\n",
      "Columbus\n",
      "Wichita\n",
      "Phoenix\n",
      "Portland\n",
      "San Jose\n"
     ]
    }
   ],
   "source": [
    "for index in range(len(lat_longs)):\n",
    "    if lat_longs[index] == 0:\n",
    "        print(cities_list[index])"
   ]
  },
  {
   "cell_type": "code",
   "execution_count": 13,
   "metadata": {},
   "outputs": [],
   "source": [
    "corrected_cities = [\n",
    "    'New_York_City',\n",
    "    'Buffalo,_New_York',\n",
    "    'Memphis,_Tennessee',\n",
    "    'Columbus,_Ohio',\n",
    "    'Wichita,_Kansas',\n",
    "    'Phoenix,_Arizona',\n",
    "    'Portland,_Oregon',\n",
    "    'San_Jose,_California'\n",
    "]"
   ]
  },
  {
   "cell_type": "code",
   "execution_count": 14,
   "metadata": {},
   "outputs": [],
   "source": [
    "corrected_lat_longs = []\n",
    "for city in corrected_cities:\n",
    "    response = requests.get(f'https://en.wikipedia.org/wiki/{city}')\n",
    "    if response.status_code == 200:\n",
    "        soup = BeautifulSoup(response.text, 'lxml')\n",
    "        try:\n",
    "            corrected_lat_longs.append(soup.find(\"span\", {\"class\": \"geo\"}).text.split('; '))\n",
    "        except AttributeError:\n",
    "            corrected_lat_longs.append(0)\n",
    "    else:\n",
    "        corrected_lat_longs.append(0)\n",
    "    time.sleep(5)"
   ]
  },
  {
   "cell_type": "code",
   "execution_count": 15,
   "metadata": {},
   "outputs": [
    {
     "data": {
      "text/plain": [
       "[['40.712740', '-74.005974'],\n",
       " ['42.90472', '-78.84944'],\n",
       " ['35.11750', '-89.97111'],\n",
       " ['39.96222', '-83.00056'],\n",
       " ['37.68889', '-97.33611'],\n",
       " ['33.450', '-112.067'],\n",
       " ['45.52000', '-122.68194'],\n",
       " ['37.333', '-121.900']]"
      ]
     },
     "execution_count": 15,
     "metadata": {},
     "output_type": "execute_result"
    }
   ],
   "source": [
    "corrected_lat_longs"
   ]
  },
  {
   "cell_type": "code",
   "execution_count": 16,
   "metadata": {},
   "outputs": [],
   "source": [
    "complete_lat_longs = []\n",
    "correction_index = 0\n",
    "for coords in lat_longs:\n",
    "    if coords == 0:\n",
    "        complete_lat_longs.append(corrected_lat_longs[correction_index])\n",
    "        correction_index += 1\n",
    "    else:\n",
    "        complete_lat_longs.append(coords)"
   ]
  },
  {
   "cell_type": "code",
   "execution_count": 17,
   "metadata": {},
   "outputs": [
    {
     "data": {
      "text/plain": [
       "[['42.35806', '-71.06361'],\n",
       " ['40.712740', '-74.005974'],\n",
       " ['42.90472', '-78.84944'],\n",
       " ['40.43972', '-79.97639'],\n",
       " ['39.95278', '-75.16361'],\n",
       " ['39.28944', '-76.61528'],\n",
       " ['38.9101', '-77.0147'],\n",
       " ['52.667', '1.000'],\n",
       " ['35.22722', '-80.84306'],\n",
       " ['33.75500', '-84.39000'],\n",
       " ['30.33694', '-81.66139'],\n",
       " ['25.77528', '-80.20889'],\n",
       " ['27.96806', '-82.47639'],\n",
       " ['52.48000', '-1.90250'],\n",
       " ['35.11750', '-89.97111'],\n",
       " ['36.16667', '-86.78333'],\n",
       " ['38.25611', '-85.75139'],\n",
       " ['39.76861', '-86.15806'],\n",
       " ['39.100', '-84.517'],\n",
       " ['39.96222', '-83.00056'],\n",
       " ['41.48222', '-81.66972'],\n",
       " ['42.33139', '-83.04583'],\n",
       " ['41.88194', '-87.62778'],\n",
       " ['43.05', '-87.95'],\n",
       " ['44.950', '-93.200'],\n",
       " ['38.62722', '-90.19778'],\n",
       " ['39.1', '-94.58'],\n",
       " ['37.68889', '-97.33611'],\n",
       " ['35.46861', '-97.52139'],\n",
       " ['29.95', '-90.08'],\n",
       " ['32.77917', '-96.80889'],\n",
       " ['29.76278', '-95.38306'],\n",
       " ['30.26722', '-97.74306'],\n",
       " ['29.42500', '-98.49389'],\n",
       " ['35.11083', '-106.61000'],\n",
       " ['33.450', '-112.067'],\n",
       " ['36.17500', '-115.13639'],\n",
       " ['38.83389', '-104.82528'],\n",
       " ['39.73917', '-104.99028'],\n",
       " ['40.76083', '-111.89111'],\n",
       " ['47.60972', '-122.33306'],\n",
       " ['45.52000', '-122.68194'],\n",
       " ['37.77750', '-122.41639'],\n",
       " ['37.333', '-121.900'],\n",
       " ['36.750', '-119.767'],\n",
       " ['34.050', '-118.250'],\n",
       " ['32.71500', '-117.16250'],\n",
       " ['61.217', '-149.900'],\n",
       " ['21.30694', '-157.85833']]"
      ]
     },
     "execution_count": 17,
     "metadata": {},
     "output_type": "execute_result"
    }
   ],
   "source": [
    "complete_lat_longs"
   ]
  },
  {
   "cell_type": "code",
   "execution_count": 18,
   "metadata": {},
   "outputs": [],
   "source": [
    "final_lat_longs = complete_lat_longs.copy()"
   ]
  },
  {
   "cell_type": "code",
   "execution_count": 19,
   "metadata": {},
   "outputs": [],
   "source": [
    "final_lat_longs[7] = ['36.917', '-76.200']\n",
    "final_lat_longs[13] = ['33.51861', '-86.81028']"
   ]
  },
  {
   "cell_type": "code",
   "execution_count": 20,
   "metadata": {},
   "outputs": [
    {
     "data": {
      "text/plain": [
       "[['42.35806', '-71.06361'],\n",
       " ['40.712740', '-74.005974'],\n",
       " ['42.90472', '-78.84944'],\n",
       " ['40.43972', '-79.97639'],\n",
       " ['39.95278', '-75.16361'],\n",
       " ['39.28944', '-76.61528'],\n",
       " ['38.9101', '-77.0147'],\n",
       " ['36.917', '-76.200'],\n",
       " ['35.22722', '-80.84306'],\n",
       " ['33.75500', '-84.39000'],\n",
       " ['30.33694', '-81.66139'],\n",
       " ['25.77528', '-80.20889'],\n",
       " ['27.96806', '-82.47639'],\n",
       " ['33.51861', '-86.81028'],\n",
       " ['35.11750', '-89.97111'],\n",
       " ['36.16667', '-86.78333'],\n",
       " ['38.25611', '-85.75139'],\n",
       " ['39.76861', '-86.15806'],\n",
       " ['39.100', '-84.517'],\n",
       " ['39.96222', '-83.00056'],\n",
       " ['41.48222', '-81.66972'],\n",
       " ['42.33139', '-83.04583'],\n",
       " ['41.88194', '-87.62778'],\n",
       " ['43.05', '-87.95'],\n",
       " ['44.950', '-93.200'],\n",
       " ['38.62722', '-90.19778'],\n",
       " ['39.1', '-94.58'],\n",
       " ['37.68889', '-97.33611'],\n",
       " ['35.46861', '-97.52139'],\n",
       " ['29.95', '-90.08'],\n",
       " ['32.77917', '-96.80889'],\n",
       " ['29.76278', '-95.38306'],\n",
       " ['30.26722', '-97.74306'],\n",
       " ['29.42500', '-98.49389'],\n",
       " ['35.11083', '-106.61000'],\n",
       " ['33.450', '-112.067'],\n",
       " ['36.17500', '-115.13639'],\n",
       " ['38.83389', '-104.82528'],\n",
       " ['39.73917', '-104.99028'],\n",
       " ['40.76083', '-111.89111'],\n",
       " ['47.60972', '-122.33306'],\n",
       " ['45.52000', '-122.68194'],\n",
       " ['37.77750', '-122.41639'],\n",
       " ['37.333', '-121.900'],\n",
       " ['36.750', '-119.767'],\n",
       " ['34.050', '-118.250'],\n",
       " ['32.71500', '-117.16250'],\n",
       " ['61.217', '-149.900'],\n",
       " ['21.30694', '-157.85833']]"
      ]
     },
     "execution_count": 20,
     "metadata": {},
     "output_type": "execute_result"
    }
   ],
   "source": [
    "final_lat_longs"
   ]
  },
  {
   "cell_type": "code",
   "execution_count": 28,
   "metadata": {},
   "outputs": [],
   "source": [
    "with open('cities.csv', 'w') as csvfile:\n",
    "    csvwriter = csv.writer(csvfile)\n",
    "    csvwriter.writerow([\"City\", \"Latitude\", \"Longitude\"])\n",
    "    for index in range(len(cities_list)):\n",
    "        csvwriter.writerow([cities_list[index]] + final_lat_longs[index])"
   ]
  },
  {
   "cell_type": "code",
   "execution_count": null,
   "metadata": {},
   "outputs": [],
   "source": []
  }
 ],
 "metadata": {
  "kernelspec": {
   "display_name": "Python 3.9.3 64-bit ('.venv': venv)",
   "name": "python393jvsc74a57bd0de529d377c5e09d3a2c5eb297c5b157ef075aac274c68717cd5f02800b44b75f"
  },
  "language_info": {
   "name": "python",
   "version": ""
  },
  "orig_nbformat": 2
 },
 "nbformat": 4,
 "nbformat_minor": 2
}